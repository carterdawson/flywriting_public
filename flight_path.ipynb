{
 "cells": [
  {
   "attachments": {},
   "cell_type": "markdown",
   "metadata": {},
   "source": [
    "FlyWriting Flight Path generator\n",
    "===========\n",
    "\n",
    "Instructions:\n",
    "\n",
    "1. Choose an image to trace.  It must be accesible over the internet.\n",
    "1. Use the tool at https://www.picturedots.com to create the waypoints\n",
    "1. Once that's done, choose \"save and share\", and you'll end up at a URL like this:\n",
    "```\n",
    "https://www.picturedots.com/make/submitDots.php?d=117,781|275,780|318,758|358,711|378,679|384,650|402,681|438,702|480,692|509,656|493,607|469,580|473,607|450,635|409,632|385,602|391,586|413,563|395,538|399,504|417,463|450,434|505,427|541,457|549,498|543,530|594,485|623,422|613,348|571,292|507,277|461,290|432,316|427,272|407,214|364,149|341,103|326,59|303,115|275,163|255,204|234,241|218,294|222,332|188,296|147,285|101,288|60,308|34,350|24,411|39,459|69,497|101,530|100,483|118,444|159,424|209,439|238,480|254,519|256,539|236,554|233,577|253,590|268,588|249,615|222,634|188,631|168,606|176,574|142,624|136,670|170,700|225,698|262,647|273,694|296,735|345,785|438,788|544,784|&l=\n",
    "```\n",
    "1. Everything between \"d=\" and \"&1=\" is the list of dots, for the argument to Drawing.  Copy that.\n",
    "1. Paste the dots into a string in the code in the next field, and then use that string as the first argument to the Drawing constructor a few lines later.\n",
    "1. Choose a lat/lon to be the first dot in the drawing.  Set starting_position to that lat/lon.\n",
    "\n"
   ]
  },
  {
   "cell_type": "code",
   "execution_count": 32,
   "metadata": {},
   "outputs": [],
   "source": [
    "if 'google.colab' in str(get_ipython()):\n",
    "  print('Running on CoLab')\n",
    "  !git clone https://github.com/carterdawson/flywriting_public.git || true\n",
    "  !cp flywriting_public/flight_drawing.py .\n",
    "\n",
    "  !pip install folium\n"
   ]
  },
  {
   "cell_type": "code",
   "execution_count": 33,
   "metadata": {
    "tags": []
   },
   "outputs": [
    {
     "name": "stdout",
     "output_type": "stream",
     "text": [
      "Initialized\n",
      "\n"
     ]
    }
   ],
   "source": [
    "from matplotlib import pyplot as plt\n",
    "import numpy as np\n",
    "import math\n",
    "from flight_drawing import Drawing\n",
    "\n",
    "\n",
    "# NOTE: Setting Drawing.max_points will cause the constructed Drawing to be culled, if the\n",
    "# number of points exceeds the given value. Zero means unlimited.\n",
    "#Drawing.max_points = 295\n",
    "#Drawing.max_points = 200\n",
    "#Drawing.max_points = 95\n",
    "Drawing.max_points = 0\n",
    "\n",
    "#example drawings:\n",
    "# A simple penguin drawing\n",
    "penguin_points = \"150,1007|202,1017|254,1018|299,1010|343,996|392,985|449,979|485,982|510,989|519,1000|510,1007|490,1018|450,1024|411,1027|368,1024|325,1017|278,1000|240,978|204,942|181,908|163,868|152,820|146,765|147,713|155,649|165,601|179,546|195,491|210,446|227,411|244,400|262,418|273,453|281,488|288,526|294,572|301,617|306,657|310,704|310,750|305,795|299,833|288,866|274,903|255,932|246,942|234,946|223,937|217,921|212,878|211,822|213,780|215,742|214,702|210,669|201,636|196,586|194,552|196,521|197,470|206,432|221,381|237,333|264,270|295,222|324,187|363,169|397,164|433,172|475,181|518,177|561,184|582,196|560,203|535,207|503,216|471,229|444,245|428,261|421,292|439,320|465,358|485,409|492,454|497,532|498,596|497,648|494,712|490,750|488,792|485,831\"\n",
    "# A fairly complex dolphin. This one is a good illustration of how to deal\n",
    "# with lots of points, either by chunking (into multiple flight plans) or\n",
    "# culling (deleting points that don't add much to the drawing)\n",
    "dolphin_points = \"520,580|462,623|395,686|357,730|325,784|305,848|308,890|329,926|367,954|403,970|430,1000|440,1028|437,1038|426,1040|405,1035|361,1025|313,1018|271,1017|229,1021|193,1029|167,1039|132,1054|92,1076|80,1077|74,1069|76,1050|87,1024|103,1007|135,991|155,971|169,943|185,896|198,847|211,781|230,682|246,591|271,513|299,455|331,406|362,363|391,322|401,302|400,282|392,263|381,247|384,232|403,221|447,213|488,206|534,197|575,177|626,156|683,136|741,127|790,122|841,122|897,132|949,147|990,174|1024,205|1052,235|1081,266|1118,291|1140,308|1147,328|1136,343|1114,351|1093,356|1062,361|1032,365|979,370|947,372|928,374|910,384|890,396|873,408|858,427|842,448|833,469|826,489|821,517|822,543|827,568|837,593|860,578|878,558|892,536|902,516|912,491|919,464|921,435|918,409|911,393|895,370|882,355|868,345|855,337|828,328|798,325|771,325|737,330|706,339|679,346|651,357|617,374|587,390|563,407|543,422|524,441|509,462|500,484|494,508|498,535|531,544|571,536|601,520|629,502|651,483|672,465|695,439|714,414\"\n",
    "# A chicken\n",
    "chicken_points = \"556,963|534,963|509,957|479,941|459,936|441,931|422,936|412,950|418,963|446,955|462,927|462,915|456,893|454,860|470,831|495,808|528,786|568,758|599,726|630,694|659,648|680,604|692,555|691,520|687,490|679,456|669,419|659,377|654,355|659,331|672,312|701,291|720,278|721,258|709,251|693,247|685,243|685,231|685,214|677,201|665,197|656,196|647,200|639,206|627,217|616,224|611,226|603,223|590,217|584,218|576,226|570,241|571,262|573,283|583,314|602,338|626,350|681,357|707,363|721,366|708,344|688,319|662,295|628,276|613,274|596,278|577,291|559,305|538,327|526,343|516,359|507,376|494,399|475,440|459,483|443,535|433,582|425,641|418,691|409,720|401,737|391,743|379,735|371,715|361,688|355,683|347,689|332,691|312,688|278,664|265,643|264,608|281,565|296,541|324,519|367,507|406,507|418,517|411,524|401,531|377,540|347,544|327,543|303,537|286,528|262,506|248,485|238,462|224,445|206,429|184,419|171,419|152,419|132,423|113,436|95,454|77,478|68,494|70,504|82,504|97,496|107,487|117,486|118,497|112,512|100,536|89,566|78,596|74,610|77,618|89,613|109,594|127,578|137,571|145,573|144,585|137,607|130,625|127,658|128,682|134,704|145,721|159,728|178,716|193,692|202,674|228,658|265,670|292,697|329,732|369,786|407,838|409,895|402,914|383,931|353,941|319,945|253,951|170,953\"\n",
    "# The NFlight logo\n",
    "nflight_logo_points = \"1932,949|1932,370|1951,333|1980,308|2021,299|2054,306|2407,701|2408,250|2422,220|2443,196|2473,178|2497,178|2550,220|2597,275|2645,354|2678,437|2691,523|2692,622|2671,717|2636,799|2601,849|2567,891|2520,934|2477,965|2416,999|2363,1020|2314,1033|2247,1044|2192,1043|2125,1035|2061,1019|2009,995|1966,972|1917,939|1880,903|1845,867|1818,830|1793,787|1775,746|1757,697|1744,643|1740,594|1740,536|1745,475|1761,416|1781,360|1809,311|1839,270|1876,226|1915,190|1966,156|2020,128|2070,108|2115,98|2162,90|2222,87|2278,90|2354,106|2420,133|2476,163|2501,186|2503,755|2491,787|2469,808|2448,822|2420,831|2392,829|2369,816|2029,433|2028,458|2027,873|2019,904|2003,925|1977,946|1932,949\"\n",
    "\n",
    "# The starting position is the lat/lon of the first point in the drawing\n",
    "starting_position = (32.91, -116.5)\n",
    "\n",
    "\n",
    "#This is the drawing to actually produce\n",
    "obj = Drawing(\n",
    "    nflight_logo_points,\n",
    "    starting_position,\n",
    "    1.0, 1.0, #x and y scaling factor\n",
    "    deg_cull_angle=0 #cull any points that result in a change in heading less than this many degrees\n",
    ")\n",
    "\n",
    "# Some avionics systems have a limitation on the number of waypoints\n",
    "# that they can handle. In that circumstance, you'll need to \"chunk\" the\n",
    "# drawing up into multiple flight plans. These two variables, chunk_size,\n",
    "# and chunk_overlap, control how that works.\n",
    "# \n",
    "# chunk_size is the maximum number of points that should be in a single\n",
    "# flight plan\n",
    "chunk_size = 95\n",
    "# chunk_overlap is the number of points that should overlap between\n",
    "# the chunks\n",
    "chunk_overlap = 5\n",
    "\n",
    "print(\"Initialized\\n\")"
   ]
  },
  {
   "cell_type": "markdown",
   "metadata": {},
   "source": [
    "## Do some math\n"
   ]
  },
  {
   "cell_type": "code",
   "execution_count": 34,
   "metadata": {
    "tags": []
   },
   "outputs": [
    {
     "name": "stdout",
     "output_type": "stream",
     "text": [
      "Lat Scale: -0.000284757\n",
      "Lon Scale: 0.000388889\n"
     ]
    }
   ],
   "source": [
    "# Scale points\n",
    "# This section computes the lat and lon scale for translating\n",
    "# between drawing points and world coordinates. These settings are probably\n",
    "# fine for most drawings in middle lattitudes. Drawings way up north or south\n",
    "# will probably be distorted if you use these values, so you may need to\n",
    "# fiddle with them somewhat if you are planning a flight like that.\n",
    "# \n",
    "# From here on out, we use a bit of Hungarian notation to keep our units\n",
    "# and types straight.  Here's a dictionary of the prefixes we use, and their\n",
    "# signifigance:\n",
    "#   pt_     A drawing point\n",
    "#   wpt_    A geographical coordinate\n",
    "#   lat_    A lattitude\n",
    "#   lon_    A longtitude\n",
    "# \n",
    "# two arbitrary waypoints\n",
    "wpt_a = (37.79, -121.52)\n",
    "wpt_b = (37.96, -121-(27.35/60))\n",
    "\n",
    "#... and their corresponding points on the plot\n",
    "pt_a = (556,963)\n",
    "pt_b = (721,366)\n",
    "\n",
    "#compute the two scales\n",
    "lon_scale = (wpt_a[1] - wpt_b[1])/(pt_a[0] - pt_b[0])\n",
    "lat_scale = (wpt_a[0] - wpt_b[0])/(pt_a[1] - pt_b[1])\n",
    "#print them out so that the user feels like we're doing something important\n",
    "print(f\"Lat Scale: {lat_scale:.6}\")\n",
    "print(f\"Lon Scale: {lon_scale:.6}\")"
   ]
  },
  {
   "cell_type": "code",
   "execution_count": 35,
   "metadata": {
    "tags": []
   },
   "outputs": [
    {
     "name": "stdout",
     "output_type": "stream",
     "text": [
      "wpt_a from pt_a (556, 963): (33.454455384, -117.035111264)\n",
      "wpt_b from pt_b (721, 366): (33.284455455, -116.970944579)\n",
      "37.79/-121.52 33.284455/-116.97094\n"
     ]
    }
   ],
   "source": [
    "\n",
    "#munge our points into a set of numpy arrays\n",
    "x = obj.get_x()\n",
    "y = obj.get_y()\n",
    "\n",
    "#calculate the point with the largest X value\n",
    "pt_max_x = (x.max(), y[np.argmax(x)])\n",
    "\n",
    "wpt_o = obj.wpt_from_pt(pt_a)\n",
    "wpt_b = obj.wpt_from_pt(pt_b)\n",
    "\n",
    "print(f\"wpt_a from pt_a {pt_a}: {obj.wpt_from_pt(pt_a)}\")\n",
    "print(f\"wpt_b from pt_b {pt_b}: {obj.wpt_from_pt(pt_b)}\")\n",
    "\n",
    "print(f\"{wpt_a[0]:.8}/{wpt_a[1]:.8} {wpt_b[0]:.8}/{wpt_b[1]:.8}\" )"
   ]
  },
  {
   "attachments": {},
   "cell_type": "markdown",
   "metadata": {},
   "source": [
    "## X,Y Plot"
   ]
  },
  {
   "cell_type": "code",
   "execution_count": 36,
   "metadata": {
    "tags": []
   },
   "outputs": [
    {
     "name": "stdout",
     "output_type": "stream",
     "text": [
      "start: [1932 -949]\n",
      "x_extent: 952, y_extent: 957, aspect: 0.9947753396029259\n"
     ]
    },
    {
     "data": {
      "image/png": "[encoded data removed]",
      "text/plain": [
       "<Figure size 640x480 with 1 Axes>"
      ]
     },
     "metadata": {},
     "output_type": "display_data"
    }
   ],
   "source": [
    "#Create an X,Y plot of the \n",
    "fig = plt.figure()\n",
    "\n",
    "x_extent = x.max() - x.min()\n",
    "y_extent = y.max() - y.min()\n",
    "\n",
    "aspect = x_extent/y_extent\n",
    "print(f\"start: {obj.pt_origin}\")\n",
    "print(f\"x_extent: {x_extent}, y_extent: {y_extent}, aspect: {aspect}\")\n",
    "\n",
    "ax = fig.add_axes([0,0,aspect,1])\n",
    "\n",
    "\n",
    "\n",
    "ax.plot(x,y)\n",
    "\n",
    "ax.plot(obj.pt_center[0], obj.pt_center[1], \"bo\")\n",
    "\n",
    "#if we culled anything\n",
    "if True and (obj.num_culled > 0):\n",
    "    print(f\"{obj.num_culled} culled points\")\n",
    "    x1 = obj.npt_culled[:,0]\n",
    "    y1 = obj.npt_culled[:,1]\n",
    "    ax.plot(x1,y1,\"r+\" )\n"
   ]
  },
  {
   "attachments": {},
   "cell_type": "markdown",
   "metadata": {},
   "source": [
    "## Lat/Lon plot\n",
    "\n",
    "This section computes the size of the drawing in nautical miles, and can optionally plot out the lat/lon coordinates."
   ]
  },
  {
   "cell_type": "code",
   "execution_count": 37,
   "metadata": {
    "tags": []
   },
   "outputs": [
    {
     "name": "stdout",
     "output_type": "stream",
     "text": [
      "75 points\n",
      "lat_extent: 0.2725, lon_extent: 0.3702\n",
      "18.63 x 16.35 nm\n"
     ]
    }
   ],
   "source": [
    "lat = obj.get_lat()\n",
    "lon = obj.get_lon()\n",
    "\n",
    "lat_center = obj.lat_from_y(obj.pt_center[1])\n",
    "lon_center = obj.lon_from_x(obj.pt_center[0])\n",
    "\n",
    "lat_extent = lat.max() - lat.min()\n",
    "mi_height = lat_extent * 60\n",
    "lon_extent = lon.max() - lon.min()\n",
    "mi_width = lon_extent * 60 * math.cos(lat.mean() * 2* math.pi / 360)\n",
    "print(f\"{lon.size} points\")\n",
    "print(f\"lat_extent: {lat_extent:.4f}, lon_extent: {lon_extent:.4f}\")\n",
    "print(f\"{mi_width:.2f} x {mi_height:.2f} nm\")\n",
    "\n",
    "\n",
    "# Uncomment the following 3 lines if you want to plot the lat/lon drawing.\n",
    "# This isn't particularly useful, except maybe for troubleshooting\n",
    "# scaling issues or the like\n",
    "#fig = plt.figure()\n",
    "#ax = fig.add_axes([0,0,1,1])\n",
    "#ax.plot(lon,lat)"
   ]
  },
  {
   "attachments": {},
   "cell_type": "markdown",
   "metadata": {},
   "source": [
    "## Your Route\n",
    "\n",
    "This section computes the actual flight plan, chopped up into chunks, if necessary.\n",
    "The resulting chunks are printed out, and you should be able to copy and paste\n",
    "them into your flight planning software.\n"
   ]
  },
  {
   "cell_type": "code",
   "execution_count": 38,
   "metadata": {
    "tags": []
   },
   "outputs": [
    {
     "name": "stdout",
     "output_type": "stream",
     "text": [
      "starting at: (32.91, -116.5) ([1932 -949]) [(32.91, -116.5)])\n",
      "num_chunks: 1, size: 90, len: 75, culled: 0\n",
      "chunk: 1, start: 0, end 95\n",
      "32.910000/-116.500000\n",
      "33.074874/-116.500000\n",
      "33.085410/-116.492611\n",
      "33.092529/-116.481333\n",
      "33.095092/-116.465389\n",
      "33.093099/-116.452556\n",
      "32.980620/-116.315278\n",
      "33.109045/-116.314889\n",
      "33.117588/-116.309444\n",
      "33.124422/-116.301278\n",
      "33.129548/-116.289611\n",
      "33.129548/-116.280278\n",
      "33.117588/-116.259667\n",
      "33.101926/-116.241389\n",
      "33.079430/-116.222722\n",
      "33.055796/-116.209889\n",
      "33.031306/-116.204833\n",
      "33.003116/-116.204444\n",
      "32.976064/-116.212611\n",
      "32.952714/-116.226222\n",
      "32.938476/-116.239833\n",
      "32.926516/-116.253055\n",
      "32.914271/-116.271333\n",
      "32.905444/-116.288055\n",
      "32.895762/-116.311778\n",
      "32.889782/-116.332389\n",
      "32.886080/-116.351444\n",
      "32.882948/-116.377500\n",
      "32.883233/-116.398889\n",
      "32.885511/-116.424944\n",
      "32.890067/-116.449833\n",
      "32.896901/-116.470056\n",
      "32.903451/-116.486778\n",
      "32.912848/-116.505833\n",
      "32.923099/-116.520222\n",
      "32.933350/-116.533833\n",
      "32.943886/-116.544333\n",
      "32.956131/-116.554056\n",
      "32.967806/-116.561056\n",
      "32.981759/-116.568056\n",
      "32.997136/-116.573111\n",
      "33.011089/-116.574667\n",
      "33.027605/-116.574667\n",
      "33.044975/-116.572722\n",
      "33.061775/-116.566500\n",
      "33.077722/-116.558722\n",
      "33.091675/-116.547833\n",
      "33.103350/-116.536167\n",
      "33.115879/-116.521778\n",
      "33.126131/-116.506611\n",
      "33.135812/-116.486778\n",
      "33.143785/-116.465778\n",
      "33.149481/-116.446333\n",
      "33.152328/-116.428833\n",
      "33.154606/-116.410556\n",
      "33.155461/-116.387222\n",
      "33.154606/-116.365444\n",
      "33.150050/-116.335889\n",
      "33.142362/-116.310222\n",
      "33.133819/-116.288444\n",
      "33.127270/-116.278722\n",
      "32.965243/-116.277944\n",
      "32.956131/-116.282611\n",
      "32.950151/-116.291167\n",
      "32.946164/-116.299333\n",
      "32.943601/-116.310222\n",
      "32.944171/-116.321111\n",
      "32.947873/-116.330056\n",
      "33.056935/-116.462278\n",
      "33.049816/-116.462667\n",
      "32.931642/-116.463056\n",
      "32.922814/-116.466167\n",
      "32.916834/-116.472389\n",
      "32.910854/-116.482500\n",
      "32.910000/-116.500000\n",
      "\n",
      "\n",
      "\n"
     ]
    }
   ],
   "source": [
    "print(f\"starting at: {obj.wpt_origin} ({obj.pt_origin}) [{lat[0], lon[0]}])\")\n",
    "\n",
    "#if we have a positive chunk size...\n",
    "effective_chunk_size = chunk_size - chunk_overlap\n",
    "if effective_chunk_size > 0:\n",
    "    #calculate the number of chunks we need\n",
    "    num_chunks = int(lat.size / chunk_size)+1\n",
    "else:\n",
    "    num_chunks = 1\n",
    "    chunk_size = len(lon)\n",
    "    effective_chunk_size = chunk_size\n",
    "\n",
    "print(f\"num_chunks: {num_chunks}, size: {effective_chunk_size}, len: {len(lon)}, culled: {obj.num_culled}\")\n",
    "\n",
    "#for each chunk...\n",
    "num_chunk = 0\n",
    "clipped = False\n",
    "s_full = \"\"\n",
    "for idx_start in range(0,len(lon),effective_chunk_size):\n",
    "    num_chunk += 1\n",
    "    chunk_start = idx_start\n",
    "    chunk_end = chunk_start + chunk_size\n",
    "    print(f\"chunk: {num_chunk}, start: {chunk_start}, end {chunk_end}\")\n",
    "    chunk_lat = lat[chunk_start: chunk_end]\n",
    "    #print(chunk_lat)\n",
    "    chunk_lon = lon[chunk_start: chunk_end]\n",
    "    s = \"\"\n",
    "    it = np.nditer(chunk_lat, flags=['f_index'])\n",
    "    for i in it:\n",
    "        s = s + f\"{chunk_lat[it.index]:.6f}/{chunk_lon[it.index]:.6f}\\n\"\n",
    "\n",
    "    s_full += s\n",
    "    print (s)\n",
    "    print(\"\\n\")\n",
    "\n",
    "\n",
    "#if we printed more than one chunk...\n",
    "if num_chunk > 1:\n",
    "    print(\"Full output:\")\n",
    "    print(s_full)"
   ]
  },
  {
   "attachments": {},
   "cell_type": "markdown",
   "metadata": {},
   "source": [
    "## Map Presentation"
   ]
  },
  {
   "cell_type": "code",
   "execution_count": 39,
   "metadata": {
    "tags": []
   },
   "outputs": [
    {
     "name": "stdout",
     "output_type": "stream",
     "text": [
      "center: [33.0192043095, -116.389555524]\n"
     ]
    },
    {
     "data": {
      "text/html": [
       "<iframe srcdoc=\"&lt;!DOCTYPE html&gt;\n",
       "&lt;html&gt;\n",
       "&lt;head&gt;\n",
       "    \n",
       "    &lt;meta http-equiv=&quot;content-type&quot; content=&quot;text/html; charset=UTF-8&quot; /&gt;\n",
       "    \n",
       "        &lt;script&gt;\n",
       "            L_NO_TOUCH = false;\n",
       "            L_DISABLE_3D = false;\n",
       "        &lt;/script&gt;\n",
       "    \n",
       "    &lt;style&gt;html, body {width: 100%;height: 100%;margin: 0;padding: 0;}&lt;/style&gt;\n",
       "    &lt;style&gt;#map {position:absolute;top:0;bottom:0;right:0;left:0;}&lt;/style&gt;\n",
       "    &lt;script src=&quot;https://cdn.jsdelivr.net/npm/leaflet@1.9.3/dist/leaflet.js&quot;&gt;&lt;/script&gt;\n",
       "    &lt;script src=&quot;https://code.jquery.com/jquery-1.12.4.min.js&quot;&gt;&lt;/script&gt;\n",
       "    &lt;script src=&quot;https://cdn.jsdelivr.net/npm/bootstrap@5.2.2/dist/js/bootstrap.bundle.min.js&quot;&gt;&lt;/script&gt;\n",
       "    &lt;script src=&quot;https://cdnjs.cloudflare.com/ajax/libs/Leaflet.awesome-markers/2.0.2/leaflet.awesome-markers.js&quot;&gt;&lt;/script&gt;\n",
       "    &lt;link rel=&quot;stylesheet&quot; href=&quot;https://cdn.jsdelivr.net/npm/leaflet@1.9.3/dist/leaflet.css&quot;/&gt;\n",
       "    &lt;link rel=&quot;stylesheet&quot; href=&quot;https://cdn.jsdelivr.net/npm/bootstrap@5.2.2/dist/css/bootstrap.min.css&quot;/&gt;\n",
       "    &lt;link rel=&quot;stylesheet&quot; href=&quot;https://netdna.bootstrapcdn.com/bootstrap/3.0.0/css/bootstrap.min.css&quot;/&gt;\n",
       "    &lt;link rel=&quot;stylesheet&quot; href=&quot;https://cdn.jsdelivr.net/npm/@fortawesome/fontawesome-free@6.2.0/css/all.min.css&quot;/&gt;\n",
       "    &lt;link rel=&quot;stylesheet&quot; href=&quot;https://cdnjs.cloudflare.com/ajax/libs/Leaflet.awesome-markers/2.0.2/leaflet.awesome-markers.css&quot;/&gt;\n",
       "    &lt;link rel=&quot;stylesheet&quot; href=&quot;https://cdn.jsdelivr.net/gh/python-visualization/folium/folium/templates/leaflet.awesome.rotate.min.css&quot;/&gt;\n",
       "    \n",
       "            &lt;meta name=&quot;viewport&quot; content=&quot;width=device-width,\n",
       "                initial-scale=1.0, maximum-scale=1.0, user-scalable=no&quot; /&gt;\n",
       "            &lt;style&gt;\n",
       "                #map_98aca4cd39d3c00125f01c58421b1a8f {\n",
       "                    position: relative;\n",
       "                    width: 100.0%;\n",
       "                    height: 100.0%;\n",
       "                    left: 0.0%;\n",
       "                    top: 0.0%;\n",
       "                }\n",
       "                .leaflet-container { font-size: 1rem; }\n",
       "            &lt;/style&gt;\n",
       "        \n",
       "&lt;/head&gt;\n",
       "&lt;body&gt;\n",
       "    \n",
       "    \n",
       "            &lt;div class=&quot;folium-map&quot; id=&quot;map_98aca4cd39d3c00125f01c58421b1a8f&quot; &gt;&lt;/div&gt;\n",
       "        \n",
       "&lt;/body&gt;\n",
       "&lt;script&gt;\n",
       "    \n",
       "    \n",
       "            var map_98aca4cd39d3c00125f01c58421b1a8f = L.map(\n",
       "                &quot;map_98aca4cd39d3c00125f01c58421b1a8f&quot;,\n",
       "                {\n",
       "                    center: [33.0192043095, -116.389555524],\n",
       "                    crs: L.CRS.EPSG3857,\n",
       "                    zoom: 10,\n",
       "                    zoomControl: true,\n",
       "                    preferCanvas: false,\n",
       "                }\n",
       "            );\n",
       "\n",
       "            \n",
       "\n",
       "        \n",
       "    \n",
       "            var tile_layer_9e360b5c464c64a7850d9d8dec588630 = L.tileLayer(\n",
       "                &quot;https://{s}.tile.openstreetmap.org/{z}/{x}/{y}.png&quot;,\n",
       "                {&quot;attribution&quot;: &quot;Data by \\u0026copy; \\u003ca target=\\&quot;_blank\\&quot; href=\\&quot;http://openstreetmap.org\\&quot;\\u003eOpenStreetMap\\u003c/a\\u003e, under \\u003ca target=\\&quot;_blank\\&quot; href=\\&quot;http://www.openstreetmap.org/copyright\\&quot;\\u003eODbL\\u003c/a\\u003e.&quot;, &quot;detectRetina&quot;: false, &quot;maxNativeZoom&quot;: 18, &quot;maxZoom&quot;: 18, &quot;minZoom&quot;: 0, &quot;noWrap&quot;: false, &quot;opacity&quot;: 1, &quot;subdomains&quot;: &quot;abc&quot;, &quot;tms&quot;: false}\n",
       "            ).addTo(map_98aca4cd39d3c00125f01c58421b1a8f);\n",
       "        \n",
       "    \n",
       "            var poly_line_9b6c09010a5889fd7ee5dad88eb94e9e = L.polyline(\n",
       "                [[32.91, -116.5], [33.074874302999994, -116.5], [33.08541031199999, -116.492611109], [33.092529236999994, -116.481333328], [33.09509205, -116.465388879], [33.093098751, -116.452555542], [32.980619735999994, -116.315277725], [33.109045142999996, -116.314888836], [33.117587852999996, -116.30944439], [33.124422020999994, -116.301277721], [33.129547646999995, -116.289611051], [33.129547646999995, -116.280277715], [33.117587852999996, -116.259666598], [33.101926217999996, -116.241388815], [33.079430415, -116.222722143], [33.055795583999995, -116.209888806], [33.031306482, -116.204833249], [33.003115539, -116.20444436], [32.976063624, -116.212611029], [32.95271355, -116.226222144], [32.9384757, -116.239833259], [32.926515906, -116.253055485], [32.914271355, -116.271333268], [32.90544388799999, -116.288055495], [32.895762149999996, -116.311777724], [32.889782253, -116.332388841], [32.886080412, -116.351444402], [32.882948084999995, -116.377499965], [32.883232842, -116.39888886], [32.885510898, -116.424944423], [32.890067009999996, -116.449833319], [32.89690117799999, -116.470055547], [32.903450588999995, -116.486777774], [32.91284757, -116.505833335], [32.923098822, -116.520222228], [32.933350073999996, -116.533833343], [32.943886082999995, -116.544333346], [32.956130634, -116.554055571], [32.967805670999994, -116.561055573], [32.981758764, -116.568055575], [32.997135641999996, -116.573111132], [33.011088734999994, -116.574666688], [33.027604640999996, -116.574666688], [33.044974818, -116.572722243], [33.061775481, -116.566500019], [33.077721872999994, -116.558722239], [33.091674966, -116.547833347], [33.103350002999996, -116.536166677], [33.11587931099999, -116.521777784], [33.126130563, -116.506611113], [33.135812300999994, -116.486777774], [33.143785496999996, -116.465777768], [33.149480636999996, -116.446333318], [33.152328207, -116.428833313], [33.154606263, -116.41055553], [33.155460534, -116.38722219], [33.154606263, -116.365444406], [33.150050150999995, -116.335888842], [33.142361711999996, -116.310222168], [33.133819001999996, -116.288444384], [33.127269590999994, -116.278722159], [32.965242857999996, -116.277944381], [32.956130634, -116.282611049], [32.950150736999994, -116.291166607], [32.946164139, -116.299333276], [32.943601326, -116.310222168], [32.94417084, -116.32111106], [32.947872681, -116.330055507], [33.056934612, -116.462277767], [33.049815687, -116.462666656], [32.93164153199999, -116.463055545], [32.922814065, -116.466166657], [32.916834167999994, -116.472388881], [32.910854271, -116.482499995], [32.91, -116.5]],\n",
       "                {&quot;bubblingMouseEvents&quot;: true, &quot;color&quot;: &quot;#3388ff&quot;, &quot;dashArray&quot;: null, &quot;dashOffset&quot;: null, &quot;fill&quot;: false, &quot;fillColor&quot;: &quot;#3388ff&quot;, &quot;fillOpacity&quot;: 0.2, &quot;fillRule&quot;: &quot;evenodd&quot;, &quot;lineCap&quot;: &quot;round&quot;, &quot;lineJoin&quot;: &quot;round&quot;, &quot;noClip&quot;: false, &quot;opacity&quot;: 1.0, &quot;smoothFactor&quot;: 1.0, &quot;stroke&quot;: true, &quot;weight&quot;: 3}\n",
       "            ).addTo(map_98aca4cd39d3c00125f01c58421b1a8f);\n",
       "        \n",
       "&lt;/script&gt;\n",
       "&lt;/html&gt;\" width=\"512\" height=\"350\"style=\"border:none !important;\" \"allowfullscreen\" \"webkitallowfullscreen\" \"mozallowfullscreen\"></iframe>"
      ],
      "text/plain": [
       "<folium.folium.Map at 0x2bd7716c400>"
      ]
     },
     "execution_count": 39,
     "metadata": {},
     "output_type": "execute_result"
    }
   ],
   "source": [
    "import folium\n",
    "center = [lat_center, lon_center]\n",
    "print(f\"center: {center}\")\n",
    "f  = folium.Figure(width=512, height=350)\n",
    "m = folium.Map(\n",
    "    location=center,\n",
    "    zoom_start=10,\n",
    ").add_to(f)\n",
    "\n",
    "\n",
    "a_coords = [(lat[i], lon[i]) for i in range(0,len(lon))]\n",
    "\n",
    "folium.PolyLine(a_coords).add_to(m)\n",
    "\n",
    "# Uncomment the following line if you want a dot in the center for\n",
    "# some reason.\n",
    "#folium.CircleMarker(center).add_to(m)\n",
    "\n",
    "m"
   ]
  }
 ],
 "metadata": {
  "kernelspec": {
   "display_name": "Python 3.7.5 64-bit",
   "metadata": {
    "interpreter": {
     "hash": "69e54ea0eb7e353e48ee8bd3a150f06e071a424859e6d6bf0014557e60f5676c"
    }
   },
   "name": "python3"
  },
  "language_info": {
   "codemirror_mode": {
    "name": "ipython",
    "version": 3
   },
   "file_extension": ".py",
   "mimetype": "text/x-python",
   "name": "python",
   "nbconvert_exporter": "python",
   "pygments_lexer": "ipython3",
   "version": "3.10.11"
  },
  "orig_nbformat": 2
 },
 "nbformat": 4,
 "nbformat_minor": 2
}
